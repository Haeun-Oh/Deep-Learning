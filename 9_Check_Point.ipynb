{
  "nbformat": 4,
  "nbformat_minor": 0,
  "metadata": {
    "colab": {
      "name": "9_Check_Point",
      "provenance": [],
      "collapsed_sections": [],
      "mount_file_id": "16T8P9VC6KVF7zsZh5j4ew_nk4mJux42E",
      "authorship_tag": "ABX9TyNyoV3Ms5R+0glKLtH+uKGN",
      "include_colab_link": true
    },
    "kernelspec": {
      "name": "python3",
      "display_name": "Python 3"
    },
    "language_info": {
      "name": "python"
    }
  },
  "cells": [
    {
      "cell_type": "markdown",
      "metadata": {
        "id": "view-in-github",
        "colab_type": "text"
      },
      "source": [
        "<a href=\"https://colab.research.google.com/github/Haeun-Oh/Deep-Learning/blob/main/9_Check_Point.ipynb\" target=\"_parent\"><img src=\"https://colab.research.google.com/assets/colab-badge.svg\" alt=\"Open In Colab\"/></a>"
      ]
    },
    {
      "cell_type": "code",
      "metadata": {
        "colab": {
          "base_uri": "https://localhost:8080/"
        },
        "id": "ldmbUdj0X3ZE",
        "outputId": "4fcaab6c-4981-48ad-845e-eb5c0f625ce4"
      },
      "source": [
        "!pip uninstall tensorflow"
      ],
      "execution_count": null,
      "outputs": [
        {
          "output_type": "stream",
          "text": [
            "Uninstalling tensorflow-2.4.1:\n",
            "  Would remove:\n",
            "    /usr/local/bin/estimator_ckpt_converter\n",
            "    /usr/local/bin/import_pb_to_tensorboard\n",
            "    /usr/local/bin/saved_model_cli\n",
            "    /usr/local/bin/tensorboard\n",
            "    /usr/local/bin/tf_upgrade_v2\n",
            "    /usr/local/bin/tflite_convert\n",
            "    /usr/local/bin/toco\n",
            "    /usr/local/bin/toco_from_protos\n",
            "    /usr/local/lib/python3.7/dist-packages/tensorflow-2.4.1.dist-info/*\n",
            "    /usr/local/lib/python3.7/dist-packages/tensorflow/*\n",
            "Proceed (y/n)? y\n",
            "  Successfully uninstalled tensorflow-2.4.1\n"
          ],
          "name": "stdout"
        }
      ]
    },
    {
      "cell_type": "code",
      "metadata": {
        "colab": {
          "base_uri": "https://localhost:8080/"
        },
        "id": "e-sSEqawX6ag",
        "outputId": "66cdb086-9039-4cec-b4c9-8e16d104941a"
      },
      "source": [
        "!pip install tensorflow==1.13.1"
      ],
      "execution_count": null,
      "outputs": [
        {
          "output_type": "stream",
          "text": [
            "Collecting tensorflow==1.13.1\n",
            "\u001b[?25l  Downloading https://files.pythonhosted.org/packages/d4/29/6b4f1e02417c3a1ccc85380f093556ffd0b35dc354078074c5195c8447f2/tensorflow-1.13.1-cp37-cp37m-manylinux1_x86_64.whl (92.6MB)\n",
            "\u001b[K     |████████████████████████████████| 92.6MB 56kB/s \n",
            "\u001b[?25hRequirement already satisfied: numpy>=1.13.3 in /usr/local/lib/python3.7/dist-packages (from tensorflow==1.13.1) (1.19.5)\n",
            "Collecting keras-applications>=1.0.6\n",
            "\u001b[?25l  Downloading https://files.pythonhosted.org/packages/71/e3/19762fdfc62877ae9102edf6342d71b28fbfd9dea3d2f96a882ce099b03f/Keras_Applications-1.0.8-py3-none-any.whl (50kB)\n",
            "\u001b[K     |████████████████████████████████| 51kB 5.4MB/s \n",
            "\u001b[?25hRequirement already satisfied: astor>=0.6.0 in /usr/local/lib/python3.7/dist-packages (from tensorflow==1.13.1) (0.8.1)\n",
            "Collecting tensorboard<1.14.0,>=1.13.0\n",
            "\u001b[?25l  Downloading https://files.pythonhosted.org/packages/0f/39/bdd75b08a6fba41f098b6cb091b9e8c7a80e1b4d679a581a0ccd17b10373/tensorboard-1.13.1-py3-none-any.whl (3.2MB)\n",
            "\u001b[K     |████████████████████████████████| 3.2MB 46.2MB/s \n",
            "\u001b[?25hRequirement already satisfied: absl-py>=0.1.6 in /usr/local/lib/python3.7/dist-packages (from tensorflow==1.13.1) (0.12.0)\n",
            "Requirement already satisfied: gast>=0.2.0 in /usr/local/lib/python3.7/dist-packages (from tensorflow==1.13.1) (0.3.3)\n",
            "Requirement already satisfied: termcolor>=1.1.0 in /usr/local/lib/python3.7/dist-packages (from tensorflow==1.13.1) (1.1.0)\n",
            "Requirement already satisfied: keras-preprocessing>=1.0.5 in /usr/local/lib/python3.7/dist-packages (from tensorflow==1.13.1) (1.1.2)\n",
            "Collecting tensorflow-estimator<1.14.0rc0,>=1.13.0\n",
            "\u001b[?25l  Downloading https://files.pythonhosted.org/packages/bb/48/13f49fc3fa0fdf916aa1419013bb8f2ad09674c275b4046d5ee669a46873/tensorflow_estimator-1.13.0-py2.py3-none-any.whl (367kB)\n",
            "\u001b[K     |████████████████████████████████| 368kB 44.6MB/s \n",
            "\u001b[?25hRequirement already satisfied: grpcio>=1.8.6 in /usr/local/lib/python3.7/dist-packages (from tensorflow==1.13.1) (1.32.0)\n",
            "Requirement already satisfied: wheel>=0.26 in /usr/local/lib/python3.7/dist-packages (from tensorflow==1.13.1) (0.36.2)\n",
            "Requirement already satisfied: six>=1.10.0 in /usr/local/lib/python3.7/dist-packages (from tensorflow==1.13.1) (1.15.0)\n",
            "Requirement already satisfied: protobuf>=3.6.1 in /usr/local/lib/python3.7/dist-packages (from tensorflow==1.13.1) (3.12.4)\n",
            "Requirement already satisfied: h5py in /usr/local/lib/python3.7/dist-packages (from keras-applications>=1.0.6->tensorflow==1.13.1) (2.10.0)\n",
            "Requirement already satisfied: werkzeug>=0.11.15 in /usr/local/lib/python3.7/dist-packages (from tensorboard<1.14.0,>=1.13.0->tensorflow==1.13.1) (1.0.1)\n",
            "Requirement already satisfied: markdown>=2.6.8 in /usr/local/lib/python3.7/dist-packages (from tensorboard<1.14.0,>=1.13.0->tensorflow==1.13.1) (3.3.4)\n",
            "Collecting mock>=2.0.0\n",
            "  Downloading https://files.pythonhosted.org/packages/5c/03/b7e605db4a57c0f6fba744b11ef3ddf4ddebcada35022927a2b5fc623fdf/mock-4.0.3-py3-none-any.whl\n",
            "Requirement already satisfied: setuptools in /usr/local/lib/python3.7/dist-packages (from protobuf>=3.6.1->tensorflow==1.13.1) (56.0.0)\n",
            "Requirement already satisfied: importlib-metadata; python_version < \"3.8\" in /usr/local/lib/python3.7/dist-packages (from markdown>=2.6.8->tensorboard<1.14.0,>=1.13.0->tensorflow==1.13.1) (3.10.1)\n",
            "Requirement already satisfied: typing-extensions>=3.6.4; python_version < \"3.8\" in /usr/local/lib/python3.7/dist-packages (from importlib-metadata; python_version < \"3.8\"->markdown>=2.6.8->tensorboard<1.14.0,>=1.13.0->tensorflow==1.13.1) (3.7.4.3)\n",
            "Requirement already satisfied: zipp>=0.5 in /usr/local/lib/python3.7/dist-packages (from importlib-metadata; python_version < \"3.8\"->markdown>=2.6.8->tensorboard<1.14.0,>=1.13.0->tensorflow==1.13.1) (3.4.1)\n",
            "Installing collected packages: keras-applications, tensorboard, mock, tensorflow-estimator, tensorflow\n",
            "  Found existing installation: tensorboard 2.4.1\n",
            "    Uninstalling tensorboard-2.4.1:\n",
            "      Successfully uninstalled tensorboard-2.4.1\n",
            "  Found existing installation: tensorflow-estimator 2.4.0\n",
            "    Uninstalling tensorflow-estimator-2.4.0:\n",
            "      Successfully uninstalled tensorflow-estimator-2.4.0\n",
            "Successfully installed keras-applications-1.0.8 mock-4.0.3 tensorboard-1.13.1 tensorflow-1.13.1 tensorflow-estimator-1.13.0\n"
          ],
          "name": "stdout"
        }
      ]
    },
    {
      "cell_type": "code",
      "metadata": {
        "id": "oc6wzeBWX8RG"
      },
      "source": [
        "import tensorflow as tf"
      ],
      "execution_count": null,
      "outputs": []
    },
    {
      "cell_type": "code",
      "metadata": {
        "colab": {
          "base_uri": "https://localhost:8080/",
          "height": 35
        },
        "id": "1ay20ALjX81i",
        "outputId": "2fdfc9af-cb76-480a-91bf-375169b137ab"
      },
      "source": [
        "tf.__version__"
      ],
      "execution_count": null,
      "outputs": [
        {
          "output_type": "execute_result",
          "data": {
            "application/vnd.google.colaboratory.intrinsic+json": {
              "type": "string"
            },
            "text/plain": [
              "'1.13.1'"
            ]
          },
          "metadata": {
            "tags": []
          },
          "execution_count": 4
        }
      ]
    },
    {
      "cell_type": "code",
      "metadata": {
        "colab": {
          "base_uri": "https://localhost:8080/"
        },
        "id": "kmztRBJR07ng",
        "outputId": "9f9f3d28-11f8-468f-91dc-dcdcfc8dd35b"
      },
      "source": [
        "from google.colab import drive\n",
        "drive.mount('/content/gdrive')"
      ],
      "execution_count": null,
      "outputs": [
        {
          "output_type": "stream",
          "text": [
            "Mounted at /content/gdrive\n"
          ],
          "name": "stdout"
        }
      ]
    },
    {
      "cell_type": "code",
      "metadata": {
        "colab": {
          "base_uri": "https://localhost:8080/"
        },
        "id": "NhqJ5gJEI2y2",
        "outputId": "8bf6e908-5733-439a-ee51-58e7b0befa42"
      },
      "source": [
        "# Uniform distribution 이용해서 변수 초기화\n",
        "# Adam Optimizer 사용, Dropout 적용\n",
        "\n",
        "from tensorflow.examples.tutorials.mnist import input_data\n",
        "mnist = input_data.read_data_sets(\"./mnist/data/\", one_hot=True)\n",
        "\n",
        "X = tf.placeholder(tf.float32, [None, 784])\n",
        "Y = tf.placeholder(tf.float32, [None, 10])\n",
        "keep_prob = tf.placeholder(tf.float32) # dropout을 얼마나 시킬 것인지에 대한 placeholder 설정\n",
        "\n",
        "W1 = tf.Variable(tf.random_uniform([784, 256], -1., 1.))\n",
        "b1 = tf.Variable(tf.random_uniform([256], -1., 1.))\n",
        "L1 = tf.nn.sigmoid(tf.matmul(X, W1)+b1)\n",
        "L1 = tf.nn.dropout(L1, keep_prob) # layer에 dropout 설정\n",
        "\n",
        "W2 = tf.Variable(tf.random_uniform([256, 256], -1., 1.))\n",
        "b2 = tf.Variable(tf.random_uniform([256], -1., 1.))\n",
        "L2 = tf.sigmoid(tf.matmul(L1, W2)+b2)\n",
        "L2 = tf.nn.dropout(L2,keep_prob)\n",
        "\n",
        "W3 = tf.Variable(tf.random_uniform([256, 10], -1., 1.))\n",
        "b3 = tf.Variable(tf.random_uniform([10], -1., 1.))\n",
        "logits = tf.matmul(L2, W3)+b3\n",
        "hypothesis = tf.nn.softmax(logits)\n",
        "cost = tf.reduce_mean(tf.nn.softmax_cross_entropy_with_logits_v2(labels=Y, logits=logits))\n",
        "opt = tf.train.AdamOptimizer(\n",
        "    learning_rate=0.001,\n",
        "    beta1=0.9,\n",
        "    beta2=0.999,\n",
        "    epsilon=1e-08,\n",
        "    use_locking=False,\n",
        "    name='Adam').minimize(cost)\n",
        "\n",
        "batch_size = 100\n",
        "\n",
        "ckpt_path = '/content/gdrive/MyDrive/Colab Notebooks/Deep_Learning/9. Check Point/saved/adam.ckpt'\n",
        "with tf.Session() as sess:\n",
        "    sess.run(tf.global_variables_initializer())\n",
        "    saver = tf.train.Saver()\n",
        "    for epoch in range(15):\n",
        "        avg_cost = 0\n",
        "        total_batch = int(mnist.train.num_examples/batch_size)\n",
        "        for i in range(total_batch):\n",
        "            batch_xs, batch_ys = mnist.train.next_batch(batch_size)\n",
        "            c, _ = sess.run([cost, opt], feed_dict={X:batch_xs, Y:batch_ys, keep_prob: 0.75}) #75% node를 활성화 시키겠다.\n",
        "            avg_cost += c/total_batch\n",
        "        print('Epoch:', '%d' % (epoch+1), 'cost = ', '{:.9f}'.format(avg_cost))      \n",
        "    is_correct = tf.equal(tf.argmax(hypothesis, 1), tf.argmax(Y, 1))\n",
        "    accuracy = tf.reduce_mean(tf.cast(is_correct, tf.float32))\n",
        "    print(\"Accuracy\", sess.run(accuracy, feed_dict={X:mnist.test.images, Y:mnist.test.labels, keep_prob: 1}))   \n",
        "\n",
        "    saver.save(sess, ckpt_path)\n",
        "    saver.restore(sess, ckpt_path)           \n",
        "    print(\"Accuracy\", sess.run(accuracy, feed_dict={X:mnist.test.images, Y:mnist.test.labels, keep_prob: 1}))              "
      ],
      "execution_count": null,
      "outputs": [
        {
          "output_type": "stream",
          "text": [
            "Extracting ./mnist/data/train-images-idx3-ubyte.gz\n",
            "Extracting ./mnist/data/train-labels-idx1-ubyte.gz\n",
            "Extracting ./mnist/data/t10k-images-idx3-ubyte.gz\n",
            "Extracting ./mnist/data/t10k-labels-idx1-ubyte.gz\n",
            "Epoch: 1 cost =  2.497446042\n",
            "Epoch: 2 cost =  0.890527407\n",
            "Epoch: 3 cost =  0.624555755\n",
            "Epoch: 4 cost =  0.493519641\n",
            "Epoch: 5 cost =  0.406260532\n",
            "Epoch: 6 cost =  0.337335690\n",
            "Epoch: 7 cost =  0.294697071\n",
            "Epoch: 8 cost =  0.262131140\n",
            "Epoch: 9 cost =  0.231153402\n",
            "Epoch: 10 cost =  0.208078405\n",
            "Epoch: 11 cost =  0.194845731\n",
            "Epoch: 12 cost =  0.173534792\n",
            "Epoch: 13 cost =  0.163723611\n",
            "Epoch: 14 cost =  0.150468963\n",
            "Epoch: 15 cost =  0.135852340\n",
            "Accuracy 0.9682\n",
            "INFO:tensorflow:Restoring parameters from /content/gdrive/MyDrive/Colab Notebooks/Deep_Learning/9. Check Point/saved/adam.ckpt\n",
            "Accuracy 0.9682\n"
          ],
          "name": "stdout"
        }
      ]
    },
    {
      "cell_type": "code",
      "metadata": {
        "colab": {
          "base_uri": "https://localhost:8080/"
        },
        "id": "rnV6AyiIhV-8",
        "outputId": "6743bebc-2074-49ed-c1af-1c80c02bc4b8"
      },
      "source": [
        "# Xavier 이용해서 변수 초기화\n",
        "# Adam Optimizer 사용, Dropout 적용\n",
        "\n",
        "from tensorflow.examples.tutorials.mnist import input_data\n",
        "mnist = input_data.read_data_sets(\"./mnist/data/\", one_hot=True)\n",
        "\n",
        "X = tf.placeholder(tf.float32, [None, 784])\n",
        "Y = tf.placeholder(tf.float32, [None, 10])\n",
        "keep_prob = tf.placeholder(tf.float32)\n",
        "\n",
        "W1 = tf.get_variable(\"W1\", shape=[784, 256],initializer=tf.contrib.layers.xavier_initializer())\n",
        "b1 = tf.get_variable(\"b1\", shape=[256],initializer=tf.contrib.layers.xavier_initializer())\n",
        "L1 = tf.nn.sigmoid(tf.matmul(X, W1)+b1)\n",
        "L1 = tf.nn.dropout(L1, keep_prob) \n",
        "\n",
        "W2 = tf.get_variable(\"W2\", shape=[256, 256],initializer=tf.contrib.layers.xavier_initializer())\n",
        "b2 = tf.get_variable(\"b2\", shape=[256],initializer=tf.contrib.layers.xavier_initializer())\n",
        "L2 = tf.sigmoid(tf.matmul(L1, W2)+b2)\n",
        "L2 = tf.nn.dropout(L2,keep_prob)\n",
        "\n",
        "W3 = tf.get_variable(\"W3\", shape=[256, 10],initializer=tf.contrib.layers.xavier_initializer())\n",
        "b3 = tf.get_variable(\"b3\", shape=[10],initializer=tf.contrib.layers.xavier_initializer())\n",
        "logits = tf.matmul(L2, W3)+b3\n",
        "hypothesis = tf.nn.softmax(logits)\n",
        "cost = tf.reduce_mean(tf.nn.softmax_cross_entropy_with_logits_v2(labels=Y, logits=logits))\n",
        "opt = tf.train.AdamOptimizer(\n",
        "    learning_rate=0.001,\n",
        "    beta1=0.9,\n",
        "    beta2=0.999,\n",
        "    epsilon=1e-08,\n",
        "    use_locking=False,\n",
        "    name='Adam').minimize(cost)\n",
        "\n",
        "batch_size = 100\n",
        "\n",
        "ckpt_path = '/content/gdrive/MyDrive/Colab Notebooks/Deep_Learning/9. Check Point/saved/adam.ckpt'\n",
        "with tf.Session() as sess:\n",
        "    sess.run(tf.global_variables_initializer())\n",
        "    saver = tf.train.Saver()\n",
        "    for epoch in range(15):\n",
        "        avg_cost = 0\n",
        "        total_batch = int(mnist.train.num_examples/batch_size)\n",
        "        for i in range(total_batch):\n",
        "            batch_xs, batch_ys = mnist.train.next_batch(batch_size)\n",
        "            c, _ = sess.run([cost, opt], feed_dict={X:batch_xs, Y:batch_ys, keep_prob: 0.75}) #75% node를 활성화 시키겠다.\n",
        "            avg_cost += c/total_batch\n",
        "        print('Epoch:', '%d' % (epoch+1), 'cost = ', '{:.9f}'.format(avg_cost))      \n",
        "    is_correct = tf.equal(tf.argmax(hypothesis, 1), tf.argmax(Y, 1))\n",
        "    accuracy = tf.reduce_mean(tf.cast(is_correct, tf.float32))\n",
        "    print(\"Accuracy\", sess.run(accuracy, feed_dict={X:mnist.test.images, Y:mnist.test.labels, keep_prob: 1}))   \n",
        "\n",
        "    saver.save(sess, ckpt_path)\n",
        "    saver.restore(sess, ckpt_path)           \n",
        "    print(\"Accuracy\", sess.run(accuracy, feed_dict={X:mnist.test.images, Y:mnist.test.labels, keep_prob: 1}))"
      ],
      "execution_count": null,
      "outputs": [
        {
          "output_type": "stream",
          "text": [
            "Extracting ./mnist/data/train-images-idx3-ubyte.gz\n",
            "Extracting ./mnist/data/train-labels-idx1-ubyte.gz\n",
            "Extracting ./mnist/data/t10k-images-idx3-ubyte.gz\n",
            "Extracting ./mnist/data/t10k-labels-idx1-ubyte.gz\n",
            "WARNING:tensorflow:From /usr/local/lib/python3.7/dist-packages/tensorflow/python/framework/op_def_library.py:263: colocate_with (from tensorflow.python.framework.ops) is deprecated and will be removed in a future version.\n",
            "Instructions for updating:\n",
            "Colocations handled automatically by placer.\n",
            "WARNING:tensorflow:From <ipython-input-5-81544cc48511>:13: calling dropout (from tensorflow.python.ops.nn_ops) with keep_prob is deprecated and will be removed in a future version.\n",
            "Instructions for updating:\n",
            "Please use `rate` instead of `keep_prob`. Rate should be set to `rate = 1 - keep_prob`.\n",
            "Epoch: 1 cost =  0.636390437\n",
            "Epoch: 2 cost =  0.272589289\n",
            "Epoch: 3 cost =  0.212541032\n",
            "Epoch: 4 cost =  0.174185623\n",
            "Epoch: 5 cost =  0.144472443\n",
            "Epoch: 6 cost =  0.124314506\n",
            "Epoch: 7 cost =  0.107521676\n",
            "Epoch: 8 cost =  0.095830982\n",
            "Epoch: 9 cost =  0.086667126\n",
            "Epoch: 10 cost =  0.078764851\n",
            "Epoch: 11 cost =  0.071442220\n",
            "Epoch: 12 cost =  0.063400061\n",
            "Epoch: 13 cost =  0.058437356\n",
            "Epoch: 14 cost =  0.053292058\n",
            "Epoch: 15 cost =  0.049998201\n",
            "Accuracy 0.9806\n",
            "WARNING:tensorflow:From /usr/local/lib/python3.7/dist-packages/tensorflow/python/training/saver.py:1266: checkpoint_exists (from tensorflow.python.training.checkpoint_management) is deprecated and will be removed in a future version.\n",
            "Instructions for updating:\n",
            "Use standard file APIs to check for files with this prefix.\n",
            "INFO:tensorflow:Restoring parameters from /content/gdrive/MyDrive/Colab Notebooks/Deep_Learning/9. Check Point/saved/adam.ckpt\n",
            "Accuracy 0.9806\n"
          ],
          "name": "stdout"
        }
      ]
    }
  ]
}